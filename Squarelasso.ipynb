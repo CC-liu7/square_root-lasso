{
 "cells": [
  {
   "cell_type": "code",
   "execution_count": 1,
   "metadata": {},
   "outputs": [
    {
     "name": "stdout",
     "output_type": "stream",
     "text": [
      "Requirement already satisfied: picos in d:\\users\\administrator.macheni-ka32ltp\\anaconda3\\envs\\pytorch\\lib\\site-packages (2.0.15)\n",
      "Requirement already satisfied: numpy>=1.6.2 in d:\\users\\administrator.macheni-ka32ltp\\anaconda3\\envs\\pytorch\\lib\\site-packages (from picos) (1.19.1)\n",
      "Requirement already satisfied: CVXOPT>=1.1.4 in d:\\users\\administrator.macheni-ka32ltp\\anaconda3\\envs\\pytorch\\lib\\site-packages (from picos) (1.2.5.post1)\n"
     ]
    }
   ],
   "source": [
    "! pip install picos"
   ]
  },
  {
   "cell_type": "code",
   "execution_count": 1,
   "metadata": {},
   "outputs": [],
   "source": [
    "import pandas as pd\n",
    "import numpy as np\n",
    "import picos\n",
    "import math\n",
    "import scipy.stats \n",
    "import seaborn as sns\n",
    "from picos import RealVariable, BinaryVariable\n",
    "from picos import Constant\n",
    "from picos import Problem\n",
    "import cvxopt as cvx\n",
    "import matplotlib.pyplot as plt"
   ]
  },
  {
   "cell_type": "code",
   "execution_count": 7,
   "metadata": {},
   "outputs": [],
   "source": [
    "import datetime\n",
    "import time"
   ]
  },
  {
   "cell_type": "code",
   "execution_count": 8,
   "metadata": {},
   "outputs": [],
   "source": [
    "alpha=0.05\n",
    "c=1.1\n",
    "p=500# size of regressor\n",
    "n=100# size of sample"
   ]
  },
  {
   "cell_type": "markdown",
   "metadata": {},
   "source": [
    "**$X: $**"
   ]
  },
  {
   "cell_type": "code",
   "execution_count": 9,
   "metadata": {},
   "outputs": [],
   "source": [
    "X=pd.read_csv(\"x.csv\",index_col=0)\n",
    "X1=X.values\n",
    "X=cvx.matrix(X1)"
   ]
  },
  {
   "cell_type": "markdown",
   "metadata": {},
   "source": [
    "**$\\beta_{0}$**  \n",
    "set $\\beta_{0}=(1,1,1,1,1,0,0,0...)$"
   ]
  },
  {
   "cell_type": "code",
   "execution_count": 10,
   "metadata": {},
   "outputs": [],
   "source": [
    "belta_t=np.zeros(p)\n",
    "belta_t[:5]=1"
   ]
  },
  {
   "cell_type": "markdown",
   "metadata": {},
   "source": [
    "$y_i=X^{'}_i*\\beta_0+\\sigma \\epsilon_i$"
   ]
  },
  {
   "cell_type": "code",
   "execution_count": 11,
   "metadata": {},
   "outputs": [],
   "source": [
    "def get_y0_data(sigma):\n",
    "    # input sigma\n",
    "    #generate y with e N(0,1)\n",
    "    epsilon=np.random.randn(n)\n",
    "    y=np.dot(X1,belta_t)+sigma*epsilon\n",
    "    return y"
   ]
  },
  {
   "cell_type": "markdown",
   "metadata": {},
   "source": [
    "### $\\epsilon_i \\sim N(0,1)$"
   ]
  },
  {
   "cell_type": "markdown",
   "metadata": {},
   "source": [
    "$$\n",
    "\\lambda=cn^{1/2}\\Phi^{-1}(1-\\frac{\\alpha}{2p})\n",
    "$$"
   ]
  },
  {
   "cell_type": "code",
   "execution_count": 12,
   "metadata": {},
   "outputs": [],
   "source": [
    "lambda_v=c*n**(1/2)*3.885"
   ]
  },
  {
   "cell_type": "markdown",
   "metadata": {},
   "source": [
    "## Fig1"
   ]
  },
  {
   "cell_type": "code",
   "execution_count": 13,
   "metadata": {},
   "outputs": [],
   "source": [
    "def Threshold(z,gamma):\n",
    "    if abs(z)<=gamma:\n",
    "        y=0\n",
    "    elif (abs(z)>gamma) & (z>0):\n",
    "        y=z-gamma\n",
    "    else:\n",
    "        y=z+gamma\n",
    "    return y"
   ]
  },
  {
   "cell_type": "code",
   "execution_count": 14,
   "metadata": {},
   "outputs": [],
   "source": [
    "y_20=get_y0_data(1)"
   ]
  },
  {
   "cell_type": "code",
   "execution_count": 17,
   "metadata": {},
   "outputs": [],
   "source": [
    "eps_l=[]\n",
    "def square_CD_test(X,y,lambda_):\n",
    "    n=X.shape[0]\n",
    "    p=X.shape[1]\n",
    "    beta=np.zeros(p)\n",
    "    eps=1e-6\n",
    "    max_iter=50\n",
    "    temp=beta.copy()\n",
    "    for i in range(max_iter):\n",
    "        for j in range(p):\n",
    "            s1=np.linalg.norm(X[:,j])\n",
    "            s2=np.dot((y-np.dot(X,beta)),X[:,j])+s1**2*beta[j]\n",
    "            s3=np.linalg.norm(y-np.dot(X,beta))*lambda_\n",
    "            beta[j]=Threshold(s2/s1**2,s3/s1**2)\n",
    "        dbeta=np.linalg.norm(beta-temp)\n",
    "        eps_l.append(dbeta)\n",
    "        if dbeta<eps:\n",
    "            break\n",
    "        temp=beta.copy()\n",
    "    return beta\n",
    "            "
   ]
  },
  {
   "cell_type": "code",
   "execution_count": 18,
   "metadata": {},
   "outputs": [],
   "source": [
    "beta=square_CD_test(X1,y_20,lambda_v/10)"
   ]
  },
  {
   "cell_type": "code",
   "execution_count": 19,
   "metadata": {},
   "outputs": [
    {
     "data": {
      "text/plain": [
       "Text(0.5, 1.0, '$\\\\epsilon_i\\\\sim N(0,1)$')"
      ]
     },
     "execution_count": 19,
     "metadata": {},
     "output_type": "execute_result"
    },
    {
     "data": {
      "image/png": "[encoded data removed]",
      "text/plain": [
       "<Figure size 432x288 with 1 Axes>"
      ]
     },
     "metadata": {
      "needs_background": "light"
     },
     "output_type": "display_data"
    }
   ],
   "source": [
    "\n",
    "n=len(eps_l)\n",
    "iter1=range(1,n+1)\n",
    "plt.yscale(\"log\")\n",
    "plt.plot(iter1,eps_l)\n",
    "plt.xlabel(\"k\")\n",
    "plt.ylabel(\"$||b^{k}-b^{k-1}||$\")\n",
    "plt.grid()\n",
    "plt.title('$\\epsilon_i\\sim N(0,1)$')"
   ]
  },
  {
   "cell_type": "markdown",
   "metadata": {},
   "source": [
    "## Fig2 and Fig3"
   ]
  },
  {
   "cell_type": "code",
   "execution_count": 69,
   "metadata": {},
   "outputs": [],
   "source": [
    "sigma=np.linspace(.25,3,12)\n",
    "time_socp=np.zeros(12)\n",
    "time_cd=np.zeros(12)\n",
    "dbeta=np.zeros(12)"
   ]
  },
  {
   "cell_type": "code",
   "execution_count": 20,
   "metadata": {},
   "outputs": [],
   "source": [
    "def square_CD(X,y,lambda_):\n",
    "    n=X.shape[0]\n",
    "    p=X.shape[1]\n",
    "    beta=np.zeros(p)\n",
    "    eps=1e-6\n",
    "    max_iter=50\n",
    "    temp=beta.copy()\n",
    "    for i in range(max_iter):\n",
    "        for j in range(p):\n",
    "            s1=np.linalg.norm(X[:,j])\n",
    "            s2=np.dot((y-np.dot(X,beta)),X[:,j])+s1**2*beta[j]\n",
    "            s3=np.linalg.norm(y-np.dot(X,beta))*lambda_\n",
    "            beta[j]=Threshold(s2/s1**2,s3/s1**2)\n",
    "        dbeta=np.linalg.norm(beta-temp)\n",
    "        if dbeta<eps:\n",
    "            break\n",
    "        temp=beta.copy()\n",
    "    return beta\n",
    "            "
   ]
  },
  {
   "cell_type": "code",
   "execution_count": 70,
   "metadata": {},
   "outputs": [
    {
     "name": "stderr",
     "output_type": "stream",
     "text": [
      "D:\\Users\\Administrator.MACHENI-KA32LTP\\anaconda3\\envs\\pytorch\\lib\\site-packages\\ipykernel_launcher.py:20: DeprecationWarning: time.clock has been deprecated in Python 3.3 and will be removed from Python 3.8: use time.perf_counter or time.process_time instead\n",
      "D:\\Users\\Administrator.MACHENI-KA32LTP\\anaconda3\\envs\\pytorch\\lib\\site-packages\\ipykernel_launcher.py:25: DeprecationWarning: time.clock has been deprecated in Python 3.3 and will be removed from Python 3.8: use time.perf_counter or time.process_time instead\n",
      "D:\\Users\\Administrator.MACHENI-KA32LTP\\anaconda3\\envs\\pytorch\\lib\\site-packages\\ipykernel_launcher.py:28: DeprecationWarning: time.clock has been deprecated in Python 3.3 and will be removed from Python 3.8: use time.perf_counter or time.process_time instead\n",
      "D:\\Users\\Administrator.MACHENI-KA32LTP\\anaconda3\\envs\\pytorch\\lib\\site-packages\\ipykernel_launcher.py:30: DeprecationWarning: time.clock has been deprecated in Python 3.3 and will be removed from Python 3.8: use time.perf_counter or time.process_time instead\n"
     ]
    }
   ],
   "source": [
    "for i in range(12):\n",
    "    y_20=get_y0_data(sigma[i])\n",
    "    P2=Problem()\n",
    "    belta_plus=RealVariable(\"belta+\",p)\n",
    "    belta_minus=RealVariable(\"belta-\",p)\n",
    "    y_2=cvx.matrix(y_20)\n",
    "    t=RealVariable(\"t\",1)\n",
    "    x=[Constant('x[{0}].T'.format(i), X[i,:]) for i in range(n)]\n",
    "    y=[Constant('y[{0}]'.format(i), y_2[i]) for i in range(n)]\n",
    "    v = RealVariable('V',n)\n",
    "    P2.add_list_of_constraints([(y[i]-x[i]*belta_plus+x[i]*belta_minus==v[i])  for i in range(n)])\n",
    "    P2.add_constraint(abs(v)<=t)\n",
    "    P2.add_constraint(belta_plus>=0)\n",
    "    P2.add_constraint(belta_minus>=0)\n",
    "    list1=np.zeros(p)\n",
    "    list2=np.zeros(p)\n",
    "    list1[::]=lambda_v/n\n",
    "    l1=Constant('Lambda/n',list1)\n",
    "    P2.set_objective('min',(t/10+(l1|belta_plus)+(l1|belta_minus)))\n",
    "    start1=time.clock()\n",
    "    P2.solve()\n",
    "    belta=belta_plus-belta_minus\n",
    "    #dbelta_n=abs(belta-belta_t).value\n",
    "    belta=np.array([belta[i].value for i in range(p)])\n",
    "    end1=time.clock()\n",
    "    t1=end1-start1\n",
    "    time_socp[i]=t1\n",
    "    start2=time.clock()\n",
    "    beta1=square_CD(X1,y_20,lambda_v/10)\n",
    "    end2=time.clock()\n",
    "    t2=end2-start2\n",
    "    time_cd[i]=t2\n",
    "    dbeta[i]=np.linalg.norm(belta-beta1)"
   ]
  },
  {
   "cell_type": "code",
   "execution_count": 80,
   "metadata": {},
   "outputs": [
    {
     "data": {
      "text/plain": [
       "9.22567731743833"
      ]
     },
     "execution_count": 80,
     "metadata": {},
     "output_type": "execute_result"
    }
   ],
   "source": [
    "time_socp.mean()/time_cd.mean()"
   ]
  },
  {
   "cell_type": "code",
   "execution_count": 78,
   "metadata": {},
   "outputs": [
    {
     "data": {
      "text/plain": [
       "1.6225269158329259"
      ]
     },
     "execution_count": 78,
     "metadata": {},
     "output_type": "execute_result"
    }
   ],
   "source": [
    "time_cd.mean()"
   ]
  },
  {
   "cell_type": "code",
   "execution_count": 74,
   "metadata": {},
   "outputs": [
    {
     "data": {
      "text/plain": [
       "Text(0.5, 1.0, '$\\\\epsilon_i\\\\sim N(0,1)$')"
      ]
     },
     "execution_count": 74,
     "metadata": {},
     "output_type": "execute_result"
    },
    {
     "data": {
      "image/png": "[encoded data removed]",
      "text/plain": [
       "<Figure size 432x288 with 1 Axes>"
      ]
     },
     "metadata": {
      "needs_background": "light"
     },
     "output_type": "display_data"
    }
   ],
   "source": [
    "plt.plot(sigma,time_socp,sigma,time_cd)\n",
    "plt.legend([\"cpu time using SOCP\",\"cpu time using CD\"])\n",
    "plt.xlabel('$\\sigma$')\n",
    "plt.ylabel('CPU time')\n",
    "plt.grid()\n",
    "plt.title('$\\epsilon_i\\sim N(0,1)$')"
   ]
  },
  {
   "cell_type": "code",
   "execution_count": 75,
   "metadata": {},
   "outputs": [
    {
     "data": {
      "text/plain": [
       "Text(0.5, 1.0, '$\\\\epsilon_i\\\\sim N(0,1)$')"
      ]
     },
     "execution_count": 75,
     "metadata": {},
     "output_type": "execute_result"
    },
    {
     "data": {
      "image/png": "[encoded data removed]",
      "text/plain": [
       "<Figure size 432x288 with 1 Axes>"
      ]
     },
     "metadata": {
      "needs_background": "light"
     },
     "output_type": "display_data"
    }
   ],
   "source": [
    "plt.plot(sigma,dbeta)\n",
    "plt.xlabel('$\\sigma$')\n",
    "plt.ylabel('beta differences')\n",
    "plt.grid()\n",
    "plt.title('$\\epsilon_i\\sim N(0,1)$')"
   ]
  }
 ],
 "metadata": {
  "kernelspec": {
   "display_name": "Python 3",
   "language": "python",
   "name": "python3"
  },
  "language_info": {
   "codemirror_mode": {
    "name": "ipython",
    "version": 3
   },
   "file_extension": ".py",
   "mimetype": "text/x-python",
   "name": "python",
   "nbconvert_exporter": "python",
   "pygments_lexer": "ipython3",
   "version": "3.7.9"
  },
  "toc": {
   "base_numbering": 1,
   "nav_menu": {},
   "number_sections": true,
   "sideBar": true,
   "skip_h1_title": false,
   "title_cell": "Table of Contents",
   "title_sidebar": "Contents",
   "toc_cell": false,
   "toc_position": {},
   "toc_section_display": true,
   "toc_window_display": false
  }
 },
 "nbformat": 4,
 "nbformat_minor": 2
}
